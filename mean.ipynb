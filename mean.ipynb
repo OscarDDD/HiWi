{
 "cells": [
  {
   "cell_type": "code",
   "id": "initial_id",
   "metadata": {
    "collapsed": true,
    "ExecuteTime": {
     "end_time": "2024-11-25T13:11:19.662462Z",
     "start_time": "2024-11-25T13:11:19.658784Z"
    }
   },
   "source": [
    "import json\n",
    "from fastapi import HTTPException\n",
    "from pydantic import BaseModel\n",
    "from typing import List\n",
    "from pydantic import ValidationError"
   ],
   "outputs": [],
   "execution_count": 27
  },
  {
   "metadata": {
    "ExecuteTime": {
     "end_time": "2024-11-25T13:11:21.222660Z",
     "start_time": "2024-11-25T13:11:21.215676Z"
    }
   },
   "cell_type": "code",
   "source": [
    "# 1. create the data model\n",
    "class ProductionData(BaseModel):\n",
    "    timestamp: str\n",
    "    temperature: float\n",
    "    pressure: float\n",
    "    class Config:\n",
    "        extra = 'forbid'\n",
    "\n",
    "def process_data(file_path):\n",
    "    try:\n",
    "        # 2. loads the file in json\n",
    "        with open(file_path, 'r') as f:\n",
    "            json_data = json.load(f)  \n",
    "            \n",
    "        # 3. validates the data\n",
    "        validated_data = [ProductionData(**item) for item in json_data]\n",
    "        # 4. calculates the average value\n",
    "        total_temperature = sum(item.temperature for item in validated_data)\n",
    "        total_pressure = sum(item.pressure for item in validated_data)\n",
    "        \n",
    "        avg_temperature = total_temperature / len(validated_data)\n",
    "        avg_pressure = total_pressure / len(validated_data)\n",
    "        return {\n",
    "        \"average_temperature\": avg_temperature,\n",
    "        \"average_pressure\": avg_pressure\n",
    "        }\n",
    "    \n",
    "    except ValidationError as e:\n",
    "        print(\"Validation Error:\")\n",
    "        print(e.json())  \n",
    "        return None\n",
    "    except FileNotFoundError as e:\n",
    "        print(\"File Not Found Error:\")\n",
    "        return None\n",
    "\n",
    "#file_path = \"/Users/dongsicheng/Documents/Working/Bosch_Code/production_data\"\n",
    "file_path = \"/Users/dongsicheng/Documents/Working/Bosch_Code/data_with_wrong_information\"\n",
    "process_data(file_path)"
   ],
   "id": "333a672360114e26",
   "outputs": [
    {
     "name": "stdout",
     "output_type": "stream",
     "text": [
      "Validation Error:\n",
      "[{\"type\":\"missing\",\"loc\":[\"pressure\"],\"msg\":\"Field required\",\"input\":{\"timestamp\":\"2024-11-01T12:00:00\",\"temperature\":78.5,\"wrong\":101.2},\"url\":\"https://errors.pydantic.dev/2.10/v/missing\"},{\"type\":\"extra_forbidden\",\"loc\":[\"wrong\"],\"msg\":\"Extra inputs are not permitted\",\"input\":101.2,\"url\":\"https://errors.pydantic.dev/2.10/v/extra_forbidden\"}]\n"
     ]
    }
   ],
   "execution_count": 28
  },
  {
   "metadata": {
    "ExecuteTime": {
     "end_time": "2024-11-25T13:14:39.452597Z",
     "start_time": "2024-11-25T13:14:39.449866Z"
    }
   },
   "cell_type": "code",
   "source": [
    "from fastapi import FastAPI\n",
    "import uvicorn\n",
    "import nest_asyncio\n",
    "from typing import Union\n",
    "from influxdb_client import InfluxDBClient, Point\n",
    "from influxdb_client.client.write_api import SYNCHRONOUS"
   ],
   "id": "63d55219a84125e3",
   "outputs": [],
   "execution_count": 29
  },
  {
   "metadata": {
    "ExecuteTime": {
     "end_time": "2024-11-25T13:16:45.312999Z",
     "start_time": "2024-11-25T13:14:41.349704Z"
    }
   },
   "cell_type": "code",
   "source": [
    "# define the fastapi\n",
    "app = FastAPI()\n",
    "# metadata for local influx DB\n",
    "INFLUXDB_URL = \"http://localhost:8086\"\n",
    "INFLUXDB_TOKEN = \"orh6W7t9mOhm7AoMZUyAxsbm5bB3vJ2CoEobis485vSo-5bTdNUlOeCpSoMadZqo9PWMN2dQfpte19t1d0rt4w==\"\n",
    "INFLUXDB_ORG = \"SichengDong_Work\"\n",
    "INFLUXDB_BUCKET = \"Machine_Data\"\n",
    "\n",
    "client = InfluxDBClient(url=INFLUXDB_URL, token=INFLUXDB_TOKEN, org=INFLUXDB_ORG)\n",
    "write_api = client.write_api(write_options=SYNCHRONOUS)\n",
    "query_api = client.query_api()\n",
    "\n",
    "# transfer the influx table data structure to dict\n",
    "def influx_query_to_dict(result) -> dict:\n",
    "    avg_temperature = 0\n",
    "    avg_pressure = 0\n",
    "    for table in result:\n",
    "        for record in table.records:\n",
    "            if record.get_field() == \"temperature\":\n",
    "                avg_temperature = record.get_value()\n",
    "            elif record.get_field() == \"pressure\":\n",
    "                avg_pressure = record.get_value()\n",
    "    return {\"average_temperature\": avg_temperature, \"average_pressure\": avg_pressure}\n",
    "\n",
    "# build the api\n",
    "@app.get(\"/\")\n",
    "async def welcome_user():\n",
    "    return {\"Welcome to the Online Data Processing Platform !\"}\n",
    "\n",
    "@app.get(\"/status\")\n",
    "def get_status():\n",
    "    # 1. build the query for influx DB\n",
    "    query = f'''\n",
    "        from(bucket: \"{INFLUXDB_BUCKET}\")\n",
    "        |> range(start: -30d)\n",
    "        |> filter(fn: (r) => r._measurement == \"Machine_data\")\n",
    "        |> filter(fn: (r) => r._field == \"temperature\" or r._field == \"pressure\")\n",
    "        |> group(columns: [\"_field\"])\n",
    "        |> mean()\n",
    "    '''\n",
    "    try:\n",
    "        # 2. get the Influx table data\n",
    "        result = query_api.query(query=query)\n",
    "        \n",
    "        if not result:\n",
    "            raise HTTPException(status_code=404, detail=\"No data available.\")\n",
    "        # 3. transfer it to dict value\n",
    "        data = influx_query_to_dict(result)\n",
    "        return data\n",
    "    \n",
    "    except Exception as e:\n",
    "        raise HTTPException(status_code=500, detail=str(e))\n",
    "\n",
    "@app.post(\"/data\")\n",
    "def add_data(new_data: Union[List[ProductionData], ProductionData]):\n",
    "    points = []\n",
    "    \n",
    "    if isinstance(new_data, list):\n",
    "        for item in new_data:\n",
    "            point = (\n",
    "                Point(\"Machine_data\")\n",
    "                .time(item.timestamp) \n",
    "                .field(\"temperature\", item.temperature)\n",
    "                .field(\"pressure\", item.pressure)\n",
    "            )\n",
    "            points.append(point)\n",
    "    else:\n",
    "        point = (\n",
    "            Point(\"Machine_data\")\n",
    "            .time(new_data.timestamp)  \n",
    "            .field(\"temperature\", new_data.temperature)\n",
    "            .field(\"pressure\", new_data.pressure)\n",
    "        )\n",
    "        points.append(point)\n",
    "\n",
    "    write_api.write(bucket=INFLUXDB_BUCKET, org=INFLUXDB_ORG, record=points)\n",
    "    \n",
    "    return {\"message\": \"Data added successfully\"}\n",
    "\n",
    "# specific setting for jupyter notebook\n",
    "nest_asyncio.apply()\n",
    "\n",
    "def run():\n",
    "    uvicorn.run(app, host=\"127.0.0.1\", port=8000)\n",
    "\n",
    "# run the service\n",
    "run()"
   ],
   "id": "367adcf52c4f25d3",
   "outputs": [
    {
     "name": "stderr",
     "output_type": "stream",
     "text": [
      "INFO:     Started server process [21988]\n",
      "INFO:     Waiting for application startup.\n",
      "INFO:     Application startup complete.\n",
      "INFO:     Uvicorn running on http://127.0.0.1:8000 (Press CTRL+C to quit)\n"
     ]
    },
    {
     "name": "stdout",
     "output_type": "stream",
     "text": [
      "INFO:     127.0.0.1:53083 - \"GET / HTTP/1.1\" 200 OK\n",
      "INFO:     127.0.0.1:53083 - \"GET /docs HTTP/1.1\" 200 OK\n",
      "INFO:     127.0.0.1:53083 - \"GET /openapi.json HTTP/1.1\" 200 OK\n",
      "INFO:     127.0.0.1:53084 - \"GET /status HTTP/1.1\" 500 Internal Server Error\n",
      "INFO:     127.0.0.1:53090 - \"POST /data HTTP/1.1\" 200 OK\n",
      "INFO:     127.0.0.1:53091 - \"GET /status HTTP/1.1\" 200 OK\n"
     ]
    },
    {
     "name": "stderr",
     "output_type": "stream",
     "text": [
      "INFO:     Shutting down\n",
      "INFO:     Waiting for application shutdown.\n",
      "INFO:     Application shutdown complete.\n",
      "INFO:     Finished server process [21988]\n"
     ]
    }
   ],
   "execution_count": 30
  }
 ],
 "metadata": {
  "kernelspec": {
   "display_name": "Python 3",
   "language": "python",
   "name": "python3"
  },
  "language_info": {
   "codemirror_mode": {
    "name": "ipython",
    "version": 2
   },
   "file_extension": ".py",
   "mimetype": "text/x-python",
   "name": "python",
   "nbconvert_exporter": "python",
   "pygments_lexer": "ipython2",
   "version": "2.7.6"
  }
 },
 "nbformat": 4,
 "nbformat_minor": 5
}
